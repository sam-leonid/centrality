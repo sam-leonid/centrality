{
  "cells": [
    {
      "cell_type": "code",
      "source": [
        "import numpy as np\n",
        "import scipy.sparse.linalg\n",
        "import networkx as nx\n",
        "from scipy.sparse import csr_matrix, save_npz\n",
        "from time import time"
      ],
      "outputs": [],
      "execution_count": 1,
      "metadata": {
        "ExecuteTime": {
          "end_time": "2019-12-20T22:07:04.240491Z",
          "start_time": "2019-12-20T22:07:03.932422Z"
        }
      }
    },
    {
      "cell_type": "code",
      "source": [
        "def getID(root='tmp_results', count=3):\n",
        "    page2id = dict()\n",
        "    for i in range(count):\n",
        "        filename = root + str(i) + \".txt\"\n",
        "        with open(filename, encoding='utf8') as links:\n",
        "            for row in links:\n",
        "                items = [item.strip() for item in row.split(',')]\n",
        "                for link in items:\n",
        "                    \n",
        "                    if link not in page2id:\n",
        "                        page2id[link] = len(page2id)\n",
        "    return page2id"
      ],
      "outputs": [],
      "execution_count": 2,
      "metadata": {
        "ExecuteTime": {
          "end_time": "2019-12-20T21:05:21.354338Z",
          "start_time": "2019-12-20T21:05:21.350337Z"
        }
      }
    },
    {
      "cell_type": "code",
      "source": [
        "page2id = getID('tmp_results', 8)"
      ],
      "outputs": [],
      "execution_count": 3,
      "metadata": {
        "ExecuteTime": {
          "end_time": "2019-12-20T21:06:55.817403Z",
          "start_time": "2019-12-20T21:05:22.798654Z"
        }
      }
    },
    {
      "cell_type": "code",
      "source": [
        "f = open(\"page2id.txt\",\"w\", encoding='utf-8')\n",
        "f.write(str(page2id))\n",
        "f.close()"
      ],
      "outputs": [],
      "execution_count": 11,
      "metadata": {
        "ExecuteTime": {
          "end_time": "2019-12-20T21:16:13.536513Z",
          "start_time": "2019-12-20T21:16:11.723106Z"
        }
      }
    },
    {
      "cell_type": "code",
      "source": [
        "def create_matrix(root='tmp', count=3):\n",
        "    n = len(page2id)\n",
        "    row_ind = []\n",
        "    col_ind = []\n",
        "    for i in range(count):\n",
        "        filename = root + str(i) + \".txt\"\n",
        "        with open(filename, encoding='utf8') as links:\n",
        "            for row in links:\n",
        "                items = [item.strip() for item in row.split(',')]\n",
        "                j = page2id[items[0]]\n",
        "                connections = [page2id[item] for item in items[1:]]\n",
        "        \n",
        "                for c in connections:\n",
        "                    row_ind.append(j)\n",
        "                    col_ind.append(c)\n",
        "\n",
        "    return csr_matrix((np.ones(len(row_ind)),(row_ind, col_ind)), shape=(n, n))"
      ],
      "outputs": [],
      "execution_count": null,
      "metadata": {
        "ExecuteTime": {
          "end_time": "2019-12-19T13:48:58.391878Z",
          "start_time": "2019-12-19T13:48:58.384877Z"
        }
      }
    },
    {
      "cell_type": "code",
      "source": [
        "matrix = create_matrix('tmp_results', 8)"
      ],
      "outputs": [],
      "execution_count": null,
      "metadata": {
        "ExecuteTime": {
          "end_time": "2019-12-19T13:56:23.297521Z",
          "start_time": "2019-12-19T13:53:09.693905Z"
        }
      }
    },
    {
      "cell_type": "code",
      "source": [
        "save_npz(\"wiki_sparse.npz\", matrix)"
      ],
      "outputs": [],
      "execution_count": null,
      "metadata": {
        "ExecuteTime": {
          "end_time": "2019-12-19T13:58:45.300642Z",
          "start_time": "2019-12-19T13:58:13.380492Z"
        }
      }
    },
    {
      "cell_type": "code",
      "source": [],
      "outputs": [],
      "execution_count": null,
      "metadata": {}
    }
  ],
  "metadata": {
    "kernelspec": {
      "name": "python3",
      "language": "python",
      "display_name": "Python 3"
    },
    "language_info": {
      "name": "python",
      "version": "3.7.3",
      "mimetype": "text/x-python",
      "codemirror_mode": {
        "name": "ipython",
        "version": 3
      },
      "pygments_lexer": "ipython3",
      "nbconvert_exporter": "python",
      "file_extension": ".py"
    },
    "kernel_info": {
      "name": "python3"
    },
    "nteract": {
      "version": "0.15.0"
    }
  },
  "nbformat": 4,
  "nbformat_minor": 2
}